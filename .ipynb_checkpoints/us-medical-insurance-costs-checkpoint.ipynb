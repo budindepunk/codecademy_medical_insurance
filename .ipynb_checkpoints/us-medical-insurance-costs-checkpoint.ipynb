{
 "cells": [
  {
   "cell_type": "markdown",
   "metadata": {},
   "source": [
    "# U.S. Medical Insurance Costs"
   ]
  },
  {
   "cell_type": "code",
   "execution_count": 1,
   "metadata": {},
   "outputs": [],
   "source": [
    "import csv"
   ]
  },
  {
   "cell_type": "code",
   "execution_count": 4,
   "metadata": {},
   "outputs": [],
   "source": [
    "ages = []\n",
    "sexes = []\n",
    "bmis = []\n",
    "num_children = []\n",
    "smoker_statuses = []\n",
    "regions = []\n",
    "insurance_charges = []"
   ]
  },
  {
   "cell_type": "code",
   "execution_count": 52,
   "metadata": {},
   "outputs": [],
   "source": [
    "# open the csv file in context and add the data to the appropriate list\n",
    "with open(\"insurance.csv\") as insurance_csv:\n",
    "    insurance_dict = csv.DictReader(insurance_csv)\n",
    "    for row in insurance_dict:\n",
    "        ages.append(row[\"age\"])\n",
    "        sexes.append(row[\"sex\"])\n",
    "        bmis.append(row[\"bmi\"])\n",
    "        num_children.append(row[\"children\"])\n",
    "        smoker_statuses.append(row[\"smoker\"])\n",
    "        regions.append(row[\"region\"])\n",
    "        insurance_charges.append(row[\"charges\"])"
   ]
  },
  {
   "cell_type": "code",
   "execution_count": 19,
   "metadata": {},
   "outputs": [],
   "source": [
    "# create a dictionary with the patient data\n",
    "keys = [\"ages\", \"sexes\", \"bmis\", \"num_children\", \"smoker_statuses\", \"regions\", \"insurance_charges\"]\n",
    "values = [ages, sexes, bmis, num_children, smoker_statuses, regions, insurance_charges]\n",
    "data_dictionary = dict(zip(keys, values))"
   ]
  },
  {
   "cell_type": "code",
   "execution_count": 26,
   "metadata": {},
   "outputs": [
    {
     "name": "stdout",
     "output_type": "stream",
     "text": [
      "the average age in the dataset is 39.2 years\n"
     ]
    }
   ],
   "source": [
    "# find average age\n",
    "total_age = 0\n",
    "for age in ages:\n",
    "    total_age += int(age)\n",
    "average_age = round(total_age / len(ages), 1)\n",
    "print(\"the average age in the dataset is {} years\".format(str(average_age)))"
   ]
  },
  {
   "cell_type": "code",
   "execution_count": 35,
   "metadata": {},
   "outputs": [
    {
     "name": "stdout",
     "output_type": "stream",
     "text": [
      "the average age for someone with children is 22.7 years and the average amount of children is 1.9\n"
     ]
    }
   ],
   "source": [
    "# find average age with at least 1 child and average number of children among people with children\n",
    "total_age_child = 0\n",
    "for i in range(0, len(ages)):\n",
    "    if int(num_children[i]) > 0:\n",
    "        total_age_child += int(ages[i])\n",
    "avg_age_child = round(total_age_child / len(ages), 1)\n",
    "\n",
    "total_parents = 0\n",
    "total_children = 0\n",
    "for i_str in num_children:\n",
    "    i = int(i_str)\n",
    "    if i > 0:\n",
    "        total_parents += 1\n",
    "        total_children += i\n",
    "avg_children = round(total_children / total_parents, 1)\n",
    "print(\"the average age for someone with children is {} years and the average amount of children is {}\".format(avg_age_child, avg_children))"
   ]
  },
  {
   "cell_type": "code",
   "execution_count": 39,
   "metadata": {},
   "outputs": [
    {
     "name": "stdout",
     "output_type": "stream",
     "text": [
      "there are 676 men, 662 women and 0 others in this dataset\n"
     ]
    }
   ],
   "source": [
    "# find number of males and females in the dataset\n",
    "males = 0\n",
    "females = 0\n",
    "other = 0\n",
    "for i in sexes:\n",
    "    if i.lower() == \"male\":\n",
    "        males += 1\n",
    "    elif i.lower() == \"female\":\n",
    "        females += 1\n",
    "    else:\n",
    "        others += 1\n",
    "print(\"there are {} men, {} women and {} others in this dataset\".format(males, females, other))"
   ]
  },
  {
   "cell_type": "code",
   "execution_count": 45,
   "metadata": {},
   "outputs": [
    {
     "name": "stdout",
     "output_type": "stream",
     "text": [
      "the average cost of insurance in this dataset is 13270.42 dollars\n"
     ]
    }
   ],
   "source": [
    "# calculate average cost of insurance\n",
    "total_cost = 0\n",
    "for i in insurance_charges:\n",
    "    total_cost += float(i)\n",
    "avg_cost = round(total_cost / len(insurance_charges), 2)\n",
    "print(\"the average cost of insurance in this dataset is {} dollars\".format(avg_cost))"
   ]
  },
  {
   "cell_type": "code",
   "execution_count": 92,
   "metadata": {},
   "outputs": [
    {
     "name": "stdout",
     "output_type": "stream",
     "text": [
      "the region with most occurrences is southeast and appears 364 times in this dataset\n"
     ]
    }
   ],
   "source": [
    "# creates a dictionary with each unique region and its number of occurrences\n",
    "unique_regions = []\n",
    "for region in regions:\n",
    "    if region not in unique_regions:\n",
    "        unique_regions.append(region)\n",
    "\n",
    "region_occurrences = {}\n",
    "for i in range(0, len(unique_regions)):\n",
    "    counter = 0\n",
    "    for region in regions:\n",
    "        if region == unique_regions[i]:\n",
    "            counter += 1\n",
    "    region_occurrences[unique_regions[i]] = counter\n",
    "\n",
    "# this one checks if a pair in the new dictionary is the one with the highest value and prints its info (most common area)\n",
    "search = max(region_occurrences.values())\n",
    "for key, value in region_occurrences.items(): \n",
    "    if value == search:\n",
    "        print(\"the region with most occurrences is {} and appears {} times in this dataset\".format(key, value))\n"
   ]
  },
  {
   "cell_type": "code",
   "execution_count": 97,
   "metadata": {},
   "outputs": [
    {
     "name": "stdout",
     "output_type": "stream",
     "text": [
      "548 people in this dataset are smokers\n"
     ]
    }
   ],
   "source": [
    "# finds number of smokers and nonsmokers\n",
    "smokers = 0\n",
    "for i in smoker_statuses:\n",
    "    if i.lower() == \"yes\":\n",
    "        smokers += 1\n",
    "print(\"{} people in this dataset are smokers\".format(smokers))"
   ]
  },
  {
   "cell_type": "code",
   "execution_count": null,
   "metadata": {},
   "outputs": [],
   "source": []
  }
 ],
 "metadata": {
  "kernelspec": {
   "display_name": "Python 3 (ipykernel)",
   "language": "python",
   "name": "python3"
  },
  "language_info": {
   "codemirror_mode": {
    "name": "ipython",
    "version": 3
   },
   "file_extension": ".py",
   "mimetype": "text/x-python",
   "name": "python",
   "nbconvert_exporter": "python",
   "pygments_lexer": "ipython3",
   "version": "3.10.9"
  }
 },
 "nbformat": 4,
 "nbformat_minor": 4
}
